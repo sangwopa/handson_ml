{
 "cells": [
  {
   "cell_type": "markdown",
   "id": "319cf01f",
   "metadata": {},
   "source": [
    "OpenCV CNN"
   ]
  },
  {
   "cell_type": "code",
   "execution_count": 1,
   "id": "644a3ee2",
   "metadata": {},
   "outputs": [],
   "source": [
    "# pip install opencv-python"
   ]
  },
  {
   "cell_type": "code",
   "execution_count": 2,
   "id": "6f40575c",
   "metadata": {},
   "outputs": [],
   "source": [
    "import cv2"
   ]
  },
  {
   "cell_type": "code",
   "execution_count": 3,
   "id": "09484be6",
   "metadata": {},
   "outputs": [
    {
     "data": {
      "text/plain": [
       "'4.5.3'"
      ]
     },
     "execution_count": 3,
     "metadata": {},
     "output_type": "execute_result"
    }
   ],
   "source": [
    "cv2.__version__"
   ]
  },
  {
   "cell_type": "code",
   "execution_count": 4,
   "id": "07a35999",
   "metadata": {},
   "outputs": [],
   "source": [
    "img = cv2.imread(\"opencv_data/lenna.PNG\")"
   ]
  },
  {
   "cell_type": "code",
   "execution_count": 5,
   "id": "23034385",
   "metadata": {},
   "outputs": [],
   "source": [
    "cv2.namedWindow('image')\n",
    "cv2.imshow(\"image\",img) #이미지를 띄우겟다\n",
    "cv2.waitKey() #기다리기\n",
    "cv2.destroyAllWindows()"
   ]
  },
  {
   "cell_type": "code",
   "execution_count": 6,
   "id": "5b349e8d",
   "metadata": {},
   "outputs": [],
   "source": [
    "img_cat = cv2.imread(\"opencv_data/cat.PNG\", cv2.IMREAD_GRAYSCALE)"
   ]
  },
  {
   "cell_type": "code",
   "execution_count": 7,
   "id": "40f3aaf2",
   "metadata": {},
   "outputs": [],
   "source": [
    "cv2.namedWindow('image_cat')\n",
    "cv2.imshow(\"image_cat\",img_cat) #이미지를 띄우겟다\n",
    "cv2.waitKey() #기다리기\n",
    "cv2.destroyAllWindows()"
   ]
  },
  {
   "cell_type": "code",
   "execution_count": 8,
   "id": "a54e0a11",
   "metadata": {},
   "outputs": [],
   "source": [
    "img_dog = cv2.imread(\"opencv_data/dog.PNG\")"
   ]
  },
  {
   "cell_type": "code",
   "execution_count": 9,
   "id": "49dd2016",
   "metadata": {},
   "outputs": [],
   "source": [
    "img2 = img_dog\n",
    "img3 = img_dog.copy()\n",
    "img_dog[:,:] = (0, 255, 255) # BGR 순서\n",
    "cv2.imshow(\"image_dog\", img_dog)\n",
    "cv2.imshow(\"image_dog2\", img2)\n",
    "cv2.imshow(\"image_dog3\", img3)\n",
    "cv2.waitKey() #기다리기\n",
    "cv2.destroyAllWindows()"
   ]
  },
  {
   "cell_type": "code",
   "execution_count": 10,
   "id": "3a563498",
   "metadata": {},
   "outputs": [
    {
     "ename": "ValueError",
     "evalue": "The truth value of an array with more than one element is ambiguous. Use a.any() or a.all()",
     "output_type": "error",
     "traceback": [
      "\u001b[1;31m---------------------------------------------------------------------------\u001b[0m",
      "\u001b[1;31mValueError\u001b[0m                                Traceback (most recent call last)",
      "\u001b[1;32m<ipython-input-10-3bab68bbc638>\u001b[0m in \u001b[0;36m<module>\u001b[1;34m\u001b[0m\n\u001b[0;32m      7\u001b[0m         \u001b[0mtmp\u001b[0m \u001b[1;33m=\u001b[0m \u001b[0mimg6\u001b[0m\u001b[1;33m[\u001b[0m\u001b[0mx\u001b[0m\u001b[1;33m,\u001b[0m \u001b[0my\u001b[0m\u001b[1;33m]\u001b[0m\u001b[1;33m\u001b[0m\u001b[1;33m\u001b[0m\u001b[0m\n\u001b[0;32m      8\u001b[0m         \u001b[0mtmp\u001b[0m \u001b[1;33m+=\u001b[0m \u001b[1;36m100\u001b[0m\u001b[1;33m\u001b[0m\u001b[1;33m\u001b[0m\u001b[0m\n\u001b[1;32m----> 9\u001b[1;33m         \u001b[1;32mif\u001b[0m \u001b[0mtmp\u001b[0m \u001b[1;33m>\u001b[0m \u001b[1;36m255\u001b[0m\u001b[1;33m:\u001b[0m\u001b[1;33m\u001b[0m\u001b[1;33m\u001b[0m\u001b[0m\n\u001b[0m\u001b[0;32m     10\u001b[0m             \u001b[0mtmp\u001b[0m \u001b[1;33m=\u001b[0m \u001b[1;36m255\u001b[0m\u001b[1;33m\u001b[0m\u001b[1;33m\u001b[0m\u001b[0m\n\u001b[0;32m     11\u001b[0m         \u001b[0mimg6\u001b[0m\u001b[1;33m[\u001b[0m\u001b[0mx\u001b[0m\u001b[1;33m,\u001b[0m \u001b[0my\u001b[0m\u001b[1;33m]\u001b[0m \u001b[1;33m=\u001b[0m \u001b[0mtmp\u001b[0m\u001b[1;33m\u001b[0m\u001b[1;33m\u001b[0m\u001b[0m\n",
      "\u001b[1;31mValueError\u001b[0m: The truth value of an array with more than one element is ambiguous. Use a.any() or a.all()"
     ]
    }
   ],
   "source": [
    "img5 = cv2.imread(\"opencv_data/lenna.PNG\", cv2.IMREAD_GRAYSCALE) \n",
    "\n",
    "img6 = img[200:400, 200:400].copy()\n",
    "\n",
    "for y in range(200):\n",
    "    for x in range(200): # 밝기 최적화 함수 정상 사진 가져와서 돌려보기\n",
    "        tmp = img6[x, y]\n",
    "        tmp += 100\n",
    "        if tmp > 255:\n",
    "            tmp = 255\n",
    "        img6[x, y] = tmp\n",
    "\n",
    "cv2.imshow(\"image_5\",img5) #이미지를 띄우겟다\n",
    "cv2.imshow(\"image_6\",img6)\n",
    "cv2.waitKey() #기다리기\n",
    "cv2.destroyAllWindows()"
   ]
  },
  {
   "cell_type": "code",
   "execution_count": 11,
   "id": "e944c946",
   "metadata": {},
   "outputs": [
    {
     "data": {
      "text/plain": [
       "(477, 499, 3)"
      ]
     },
     "execution_count": 11,
     "metadata": {},
     "output_type": "execute_result"
    }
   ],
   "source": [
    "img.shape # 비디오사이즈, 채널"
   ]
  },
  {
   "cell_type": "markdown",
   "id": "8ad21210",
   "metadata": {},
   "source": [
    "cap = cv2.VideoCapture(\"opencv_data/stopwatch.avi\")\n",
    "cap.get(cv2.CAP_PROP_FRAME_WIDTH)\n",
    "cap.get(cv2.CAP_PROP_FRAME_HEIGHT)\n",
    "cap.get(cv2.CAP_PROP_FRAME_COUNT)\n",
    "ret, frame = cap.read()\n",
    "print(ret, frame)"
   ]
  },
  {
   "cell_type": "markdown",
   "id": "ca2c44e5",
   "metadata": {},
   "source": [
    "frame.shape"
   ]
  },
  {
   "cell_type": "code",
   "execution_count": 12,
   "id": "7e767cee",
   "metadata": {},
   "outputs": [],
   "source": [
    "import numpy as np"
   ]
  },
  {
   "cell_type": "code",
   "execution_count": 27,
   "id": "8857e640",
   "metadata": {},
   "outputs": [],
   "source": [
    "white_canvas = np.full((400,400,3),255, np.uint8) \n",
    "# black_canvas = np.full((400,400,3),0,np.uint8) \n",
    "\n",
    "#선 그리기(canvas, 시작점 좌표, 종점 좌표, 색상(BGR)) 왼쪽 위에가 (0,0)\n",
    "cv2.line(white_canvas, (50,50), (200,50), (0,0,255)) #빨간색 선\n",
    "cv2.line(white_canvas, (50,100), (200,100), (0,255,0), 3) #초록색 선\n",
    "\n",
    "#사선 비교\n",
    "cv2.line(white_canvas, (50,150), (200,150), (0,0,255), 1, cv2.LINE_4) \n",
    "cv2.line(white_canvas, (50,200), (200,200), (255,0,0), 1, cv2.LINE_AA) #안티 앨리어싱\n",
    "\n",
    "#화살표\n",
    "cv2.arrowedLine(white_canvas, (50,200), (200,150), (0,0,255), 1)\n",
    "cv2.arrowedLine(white_canvas, (50,300), (200,150), (0,0,255), 1, cv2.LINE_AA)\n",
    "cv2.arrowedLine(white_canvas, (50,350), (200,150), (0,0,255), 1, cv2.LINE_4,0, 0.02) #화살표 머리크기\n",
    "\n",
    "#마커 canvas 좌표 색상 마커종류 크기 두께 타입\n",
    "cv2.drawMarker(white_canvas, (50, 350), (0,0,255), cv2.MARKER_CROSS)\n",
    "cv2.drawMarker(white_canvas, (100, 350), (0,0,255), cv2.MARKER_TILTED_CROSS)\n",
    "cv2.drawMarker(white_canvas, (150, 350), (0,0,255), cv2.MARKER_STAR)\n",
    "cv2.drawMarker(white_canvas, (200, 350), (0,0,255), cv2.MARKER_DIAMOND)\n",
    "cv2.drawMarker(white_canvas, (250, 350), (0,0,255), cv2.MARKER_TRIANGLE_UP)\n",
    "cv2.drawMarker(white_canvas, (300, 350), (0,0,255), cv2.MARKER_TRIANGLE_DOWN)\n",
    "\n",
    "\n",
    "\n",
    "cv2.imshow(\"white_canvas\", white_canvas)\n",
    "cv2.waitKey() #기다리기\n",
    "cv2.destroyAllWindows()"
   ]
  },
  {
   "cell_type": "code",
   "execution_count": 46,
   "id": "14333146",
   "metadata": {},
   "outputs": [],
   "source": [
    "white_canvas = np.full((400,400,3),255, np.uint8) \n",
    "\n",
    "#사각형 시작좌표 끝좌표 색상 두께\n",
    "cv2.rectangle(white_canvas, (50,50), (150,100), (0,0,255), 4)\n",
    "cv2.rectangle(white_canvas, (200,200), (150,100), (0,0,255), -1)\n",
    "\n",
    "#원\n",
    "cv2.circle(white_canvas, (300,300), 30, (255,0,0), cv2.LINE_AA)\n",
    "\n",
    "#타원 중심좌표 긴쪽 짧은쪽 길이 회전각 시작각 끝각 \n",
    "cv2.ellipse(white_canvas, (120,300), (60, 30), 0, 180, 360, (255,0,0))\n",
    "cv2.ellipse(white_canvas, (120,300), (100, 50), 10, 0, 360, (255,0,0))\n",
    "\n",
    "#다각형\n",
    "points = np.array([[250,250],[300,250],[300,300],[350,300],[350,350],[250,350]])\n",
    "points2 = np.array([[260,260],[310,260],[310,310],[360,310],[360,360],[260,360]])\n",
    "cv2.polylines(white_canvas, [points], True, (255,0,0), 2) #닫힌도형\n",
    "cv2.polylines(white_canvas, [points2], False, (255,0,0), 2) #열린도형\n",
    "\n",
    "cv2.imshow(\"white_canvas\", white_canvas)\n",
    "cv2.waitKey() #기다리기\n",
    "cv2.destroyAllWindows()"
   ]
  },
  {
   "cell_type": "code",
   "execution_count": 48,
   "id": "e795d46f",
   "metadata": {},
   "outputs": [],
   "source": [
    "white_canvas = np.full((400,400,3),255, np.uint8) \n",
    "\n",
    "text = \"opencv is funㅋ\"\n",
    "cv2.putText(white_canvas, text, (20,50), cv2.FONT_HERSHEY_COMPLEX | cv2.FONT_ITALIC,1, (0,0,255))\n",
    "\n",
    "cv2.imshow(\"white_canvas\", white_canvas)\n",
    "cv2.waitKey() #기다리기\n",
    "cv2.destroyAllWindows()"
   ]
  },
  {
   "cell_type": "code",
   "execution_count": null,
   "id": "4c78bb68",
   "metadata": {},
   "outputs": [],
   "source": []
  }
 ],
 "metadata": {
  "kernelspec": {
   "display_name": "Python 3",
   "language": "python",
   "name": "python3"
  },
  "language_info": {
   "codemirror_mode": {
    "name": "ipython",
    "version": 3
   },
   "file_extension": ".py",
   "mimetype": "text/x-python",
   "name": "python",
   "nbconvert_exporter": "python",
   "pygments_lexer": "ipython3",
   "version": "3.8.8"
  }
 },
 "nbformat": 4,
 "nbformat_minor": 5
}
