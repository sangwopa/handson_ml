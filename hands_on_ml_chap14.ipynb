{
 "cells": [
  {
   "cell_type": "markdown",
   "id": "319cf01f",
   "metadata": {},
   "source": [
    "OpenCV CNN"
   ]
  },
  {
   "cell_type": "code",
   "execution_count": 1,
   "id": "644a3ee2",
   "metadata": {},
   "outputs": [],
   "source": [
    "# pip install opencv-python"
   ]
  },
  {
   "cell_type": "code",
   "execution_count": 2,
   "id": "6f40575c",
   "metadata": {},
   "outputs": [],
   "source": [
    "import cv2"
   ]
  },
  {
   "cell_type": "code",
   "execution_count": 3,
   "id": "09484be6",
   "metadata": {},
   "outputs": [
    {
     "data": {
      "text/plain": [
       "'4.5.3'"
      ]
     },
     "execution_count": 3,
     "metadata": {},
     "output_type": "execute_result"
    }
   ],
   "source": [
    "cv2.__version__"
   ]
  },
  {
   "cell_type": "code",
   "execution_count": 4,
   "id": "07a35999",
   "metadata": {},
   "outputs": [],
   "source": [
    "img = cv2.imread(\"opencv_data/lenna.PNG\")"
   ]
  },
  {
   "cell_type": "code",
   "execution_count": 5,
   "id": "23034385",
   "metadata": {},
   "outputs": [],
   "source": [
    "cv2.namedWindow('image')\n",
    "cv2.imshow(\"image\",img) #이미지를 띄우겟다\n",
    "cv2.waitKey() #기다리기\n",
    "cv2.destroyAllWindows()"
   ]
  },
  {
   "cell_type": "code",
   "execution_count": 6,
   "id": "5b349e8d",
   "metadata": {},
   "outputs": [],
   "source": [
    "img_cat = cv2.imread(\"opencv_data/cat.PNG\", cv2.IMREAD_GRAYSCALE)"
   ]
  },
  {
   "cell_type": "code",
   "execution_count": 7,
   "id": "40f3aaf2",
   "metadata": {},
   "outputs": [],
   "source": [
    "cv2.namedWindow('image_cat')\n",
    "cv2.imshow(\"image_cat\",img_cat) #이미지를 띄우겟다\n",
    "cv2.waitKey() #기다리기\n",
    "cv2.destroyAllWindows()"
   ]
  },
  {
   "cell_type": "code",
   "execution_count": 8,
   "id": "a54e0a11",
   "metadata": {},
   "outputs": [],
   "source": [
    "img_dog = cv2.imread(\"opencv_data/dog.PNG\")"
   ]
  },
  {
   "cell_type": "code",
   "execution_count": 9,
   "id": "49dd2016",
   "metadata": {},
   "outputs": [],
   "source": [
    "img2 = img_dog\n",
    "img3 = img_dog.copy()\n",
    "img_dog[:,:] = (0, 255, 255) # BGR 순서\n",
    "cv2.imshow(\"image_dog\", img_dog)\n",
    "cv2.imshow(\"image_dog2\", img2)\n",
    "cv2.imshow(\"image_dog3\", img3)\n",
    "cv2.waitKey() #기다리기\n",
    "cv2.destroyAllWindows()"
   ]
  },
  {
   "cell_type": "code",
   "execution_count": 11,
   "id": "3a563498",
   "metadata": {},
   "outputs": [
    {
     "ename": "ValueError",
     "evalue": "The truth value of an array with more than one element is ambiguous. Use a.any() or a.all()",
     "output_type": "error",
     "traceback": [
      "\u001b[1;31m---------------------------------------------------------------------------\u001b[0m",
      "\u001b[1;31mValueError\u001b[0m                                Traceback (most recent call last)",
      "\u001b[1;32m<ipython-input-11-24fe656b0bb7>\u001b[0m in \u001b[0;36m<module>\u001b[1;34m\u001b[0m\n\u001b[0;32m      7\u001b[0m         \u001b[0mtmp\u001b[0m \u001b[1;33m=\u001b[0m \u001b[0mimg6\u001b[0m\u001b[1;33m[\u001b[0m\u001b[0mx\u001b[0m\u001b[1;33m,\u001b[0m \u001b[0my\u001b[0m\u001b[1;33m]\u001b[0m\u001b[1;33m\u001b[0m\u001b[1;33m\u001b[0m\u001b[0m\n\u001b[0;32m      8\u001b[0m         \u001b[0mtmp\u001b[0m \u001b[1;33m+=\u001b[0m \u001b[1;36m100\u001b[0m\u001b[1;33m\u001b[0m\u001b[1;33m\u001b[0m\u001b[0m\n\u001b[1;32m----> 9\u001b[1;33m         \u001b[1;32mif\u001b[0m \u001b[0mtmp\u001b[0m \u001b[1;33m>\u001b[0m \u001b[1;36m255\u001b[0m\u001b[1;33m:\u001b[0m\u001b[1;33m\u001b[0m\u001b[1;33m\u001b[0m\u001b[0m\n\u001b[0m\u001b[0;32m     10\u001b[0m             \u001b[0mtmp\u001b[0m \u001b[1;33m=\u001b[0m \u001b[1;36m255\u001b[0m\u001b[1;33m\u001b[0m\u001b[1;33m\u001b[0m\u001b[0m\n\u001b[0;32m     11\u001b[0m         \u001b[0mimg6\u001b[0m\u001b[1;33m[\u001b[0m\u001b[0mx\u001b[0m\u001b[1;33m,\u001b[0m \u001b[0my\u001b[0m\u001b[1;33m]\u001b[0m \u001b[1;33m=\u001b[0m \u001b[0mtmp\u001b[0m\u001b[1;33m\u001b[0m\u001b[1;33m\u001b[0m\u001b[0m\n",
      "\u001b[1;31mValueError\u001b[0m: The truth value of an array with more than one element is ambiguous. Use a.any() or a.all()"
     ]
    }
   ],
   "source": [
    "img5 = cv2.imread(\"opencv_data/lenna.PNG\", cv2.IMREAD_GRAYSCALE) \n",
    "\n",
    "img6 = img[200:400, 200:400].copy()\n",
    "\n",
    "for y in range(200):\n",
    "    for x in range(200): # 밝기 최적화 함수 정상 사진 가져와서 돌려보기\n",
    "        tmp = img6[x, y]\n",
    "        tmp += 100\n",
    "        if tmp > 255:\n",
    "            tmp = 255\n",
    "        img6[x, y] = tmp\n",
    "\n",
    "cv2.imshow(\"image_5\",img5) #이미지를 띄우겟다\n",
    "cv2.imshow(\"image_6\",img6)\n",
    "cv2.waitKey() #기다리기\n",
    "cv2.destroyAllWindows()"
   ]
  },
  {
   "cell_type": "code",
   "execution_count": null,
   "id": "e944c946",
   "metadata": {},
   "outputs": [],
   "source": [
    "img.shape"
   ]
  },
  {
   "cell_type": "code",
   "execution_count": null,
   "id": "f4ed585a",
   "metadata": {},
   "outputs": [],
   "source": [
    "img2.shape"
   ]
  },
  {
   "cell_type": "code",
   "execution_count": null,
   "id": "7e767cee",
   "metadata": {},
   "outputs": [],
   "source": []
  }
 ],
 "metadata": {
  "kernelspec": {
   "display_name": "Python 3",
   "language": "python",
   "name": "python3"
  },
  "language_info": {
   "codemirror_mode": {
    "name": "ipython",
    "version": 3
   },
   "file_extension": ".py",
   "mimetype": "text/x-python",
   "name": "python",
   "nbconvert_exporter": "python",
   "pygments_lexer": "ipython3",
   "version": "3.8.8"
  }
 },
 "nbformat": 4,
 "nbformat_minor": 5
}
