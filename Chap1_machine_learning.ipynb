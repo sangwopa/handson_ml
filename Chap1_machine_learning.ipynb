{
 "cells": [
  {
   "cell_type": "markdown",
   "id": "76964c32",
   "metadata": {},
   "source": [
    "한눈에 보는 머신러닝"
   ]
  },
  {
   "cell_type": "markdown",
   "id": "5d4bb2bc",
   "metadata": {},
   "source": [
    "머신러닝 정의\n",
    "- 명시적인 프로그래밍 없이 컴퓨터가 학습하는 능력을 갖추게 하는 연구분야\n",
    "- 어떤 작업 T에 대한 컴퓨터 프로그램의 성능을 P로 측정했을 때 경험 E로 인해 성은이 향상됐다면, 이 컴퓨터 프로그램은 작업\n",
    "  T와 성능 측정 P에 대해 경험 E로 학습한 것이다."
   ]
  },
  {
   "cell_type": "markdown",
   "id": "6ae0cd66",
   "metadata": {},
   "source": [
    "머신러닝 사용 이유\n",
    "- 데이터 마이닝: 머신러닝 기술을 적용해 대용량의 데이터를 분석하여 벝으로는 보이지 않던 패턴 발견\n",
    "- 기존 솔루션으로 많은 수동 조정과 규칙이 필요한 문제 해결\n",
    "- 전통적인 방식으로는 해결 방법이 없는 복잡한 문제 해결\n",
    "- 유동적인 환경\n",
    "- 복잡한 문제와 대량의 데이터를 통한 통찰력 얻기"
   ]
  },
  {
   "cell_type": "markdown",
   "id": "4716dfcb",
   "metadata": {},
   "source": [
    "애플리케이션 사례\n",
    "- 이미지 자동 분류: 합성곱 신경망(CNN, Convolutional Neural Network) 사용\n",
    "- 뇌 스캔하여 종양 진단\n",
    "- 자동 뉴스기사 분류: 자연어 처리(NLP, Natural Language Processing)\n",
    "- 신용 카드 부정 거래 감지\n",
    "- 구매 이력을 기반으로 고객을 나누고 마케팅 전략 수립\n",
    "- 데이터 시각화\n",
    "- 상품 추천"
   ]
  },
  {
   "cell_type": "markdown",
   "id": "7859b77d",
   "metadata": {},
   "source": [
    "머신러닝 시스템 종류\n",
    "- "
   ]
  }
 ],
 "metadata": {
  "kernelspec": {
   "display_name": "Python 3",
   "language": "python",
   "name": "python3"
  },
  "language_info": {
   "codemirror_mode": {
    "name": "ipython",
    "version": 3
   },
   "file_extension": ".py",
   "mimetype": "text/x-python",
   "name": "python",
   "nbconvert_exporter": "python",
   "pygments_lexer": "ipython3",
   "version": "3.8.8"
  }
 },
 "nbformat": 4,
 "nbformat_minor": 5
}
