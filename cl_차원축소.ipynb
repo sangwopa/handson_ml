{
 "cells": [
  {
   "cell_type": "code",
   "execution_count": 1,
   "id": "06846a0f",
   "metadata": {},
   "outputs": [],
   "source": [
    "import pandas as pd\n",
    "import numpy as np\n",
    "import mglearn\n",
    "from sklearn.datasets import fetch_openml\n",
    "from sklearn.decomposition import PCA\n",
    "from sklearn.decomposition import IncrementalPCA\n",
    "from sklearn.linear_model import LinearRegression\n",
    "# trainset, testset\n",
    "from sklearn.model_selection import train_test_split\n",
    "from sklearn.metrics import mean_squared_error, r2_score\n",
    "import seaborn as sns\n",
    "import matplotlib.pyplot as plt"
   ]
  },
  {
   "cell_type": "markdown",
   "id": "c7f8c81e",
   "metadata": {},
   "source": [
    "특성 수가 너무 많으면 느려져서 솔루션을 찾기 어렵게 만듦.\n"
   ]
  },
  {
   "cell_type": "markdown",
   "id": "a095734d",
   "metadata": {},
   "source": [
    "이것을 '차원의 저주'라고 함"
   ]
  },
  {
   "cell_type": "markdown",
   "id": "92368f00",
   "metadata": {},
   "source": [
    "장점\n",
    "- 훈련속도가 빨라짐\n",
    "- 시각화에 유용\n"
   ]
  },
  {
   "cell_type": "markdown",
   "id": "1088236d",
   "metadata": {},
   "source": [
    "가장 인기 있는 차원 축소 기법\n",
    "- PCA\n",
    "- 커널 PCA\n",
    "- LLE"
   ]
  },
  {
   "cell_type": "markdown",
   "id": "e680a0e4",
   "metadata": {},
   "source": [
    "차원 축소를 위한 접근법\n",
    "- 투영\n",
    "- 매니폴드 학습"
   ]
  },
  {
   "cell_type": "markdown",
   "id": "2dff4dcb",
   "metadata": {},
   "source": [
    "PCA(Principal Component Analysis) 주성분 분석\n",
    "- 먼저 데이터에 가장 가까운 초평면을 정의한 다음, 데이터를 이 평면의 투영시킴\n",
    "- 올바른 초평면 선택\n",
    "- 분산이 최대로 보존되는 축을 선택하는 것이 정보가 가장 적게 손실됨\n",
    "- 원본 데이터셋과 투영된 것 사이의 편균 제곰 거리를 최소화하는 축\n",
    "- 훈련 세트에서 분산이 최대인 축 찾기\n",
    "- n 번째 축을 찾고 n 번째 축을 n 번째 주성분이라고 부름\n",
    "- 특잇값 분해(SVD, Singular Value Decomposition) 표준 행렬 분해 기술 이용"
   ]
  },
  {
   "cell_type": "code",
   "execution_count": 2,
   "id": "23524294",
   "metadata": {},
   "outputs": [],
   "source": [
    "# X_centered = X - X.mean(axis = 0)\n",
    "# U, s, Vt = np.linalg.svd(X_centered)\n",
    "# c1 = Vt.T[:, 0]\n",
    "# c2 = Vt.T[:, 1]"
   ]
  },
  {
   "cell_type": "markdown",
   "id": "1818d1b5",
   "metadata": {},
   "source": [
    "Scaler 후에 하면 더 좋음"
   ]
  },
  {
   "cell_type": "code",
   "execution_count": 3,
   "id": "d9af522a",
   "metadata": {},
   "outputs": [],
   "source": [
    "# scaler = StandardScaler()\n",
    "# cancer_scaled = scaler.fit_transform(cancer.data)\n",
    "# cancer_scaled.shape"
   ]
  },
  {
   "cell_type": "code",
   "execution_count": 4,
   "id": "bab5c32c",
   "metadata": {},
   "outputs": [],
   "source": [
    "# pca = PCA(n_components = 2)\n",
    "# cancer_scaled_pca_2 = pca.fit_transform(cancer_scaled)\n",
    "# cancer_scaled_pca_2.shape"
   ]
  },
  {
   "cell_type": "code",
   "execution_count": 5,
   "id": "f7c0a117",
   "metadata": {},
   "outputs": [],
   "source": [
    "# mglearn.discrete_scatter(cancer_scaled_pca_e[:, 0], cancer_scaled_pca_2[:, 1], cancer.target) 그래프\n",
    "# plt.legend([\"danger\", \"caution\"])"
   ]
  },
  {
   "cell_type": "code",
   "execution_count": 6,
   "id": "56179a77",
   "metadata": {},
   "outputs": [],
   "source": [
    "# mnist = fetch_openml('mnist_784', version = 1, as_frame = False)"
   ]
  },
  {
   "cell_type": "code",
   "execution_count": 7,
   "id": "f0a1904c",
   "metadata": {},
   "outputs": [],
   "source": [
    "# mnist.target = mnist.target.astype(np.uint8) -> string to int"
   ]
  },
  {
   "cell_type": "code",
   "execution_count": 8,
   "id": "52025f3f",
   "metadata": {},
   "outputs": [],
   "source": [
    "# X = mnist.data\n",
    "# y = mnist.target"
   ]
  },
  {
   "cell_type": "code",
   "execution_count": 9,
   "id": "a4eff601",
   "metadata": {},
   "outputs": [],
   "source": [
    "# X_train, X_test, y_train, y_test = train_test_split(X, y, random_state = 0)"
   ]
  },
  {
   "cell_type": "code",
   "execution_count": 10,
   "id": "e8fcf65c",
   "metadata": {},
   "outputs": [],
   "source": [
    "# pca = PCA()\n",
    "# pca.fit(X_train)"
   ]
  },
  {
   "cell_type": "code",
   "execution_count": 11,
   "id": "c6fc8c52",
   "metadata": {},
   "outputs": [],
   "source": [
    "# cunsum_res = np.cunsum(pca.explained_variance_ratio_)\n",
    "# d = np.argmax(cunsum_res >= 0.95) + 1\n",
    "# d"
   ]
  },
  {
   "cell_type": "code",
   "execution_count": 12,
   "id": "d9da6822",
   "metadata": {},
   "outputs": [],
   "source": [
    "# 압축을 위한 PCA\n",
    "# pca = PCA(n_components = 154)\n",
    "# X_reduced = pca.fit_transform(X_train)\n",
    "# X_recovered = pca.inverse_transform(X_reduced)"
   ]
  },
  {
   "cell_type": "code",
   "execution_count": 13,
   "id": "d4de01d1",
   "metadata": {},
   "outputs": [],
   "source": [
    "# def plot_digits(instances, images_per_row=5, **options):\n",
    "#     size = 28\n",
    "#     images_per_row = min(len(instances), images_per_row)\n",
    "#     images = [instance.reshape(size,size) for instance in instances]\n",
    "#     n_rows = (len(instances) - 1) // images_per_row + 1\n",
    "#     row_images = []\n",
    "#     n_empty = n_rows * images_per_row - len(instances)\n",
    "#     images.append(np.zeros((size, size * n_empty)))\n",
    "#     for row in range(n_rows):\n",
    "#         rimages = images[row * images_per_row : (row + 1) * images_per_row]\n",
    "#         row_images.append(np.concatenate(rimages, axis=1))\n",
    "#     image = np.concatenate(row_images, axis=0)\n",
    "#     plt.imshow(image, cmap = mpl.cm.binary, **options)\n",
    "#     plt.axis(\"off\")"
   ]
  },
  {
   "cell_type": "code",
   "execution_count": 14,
   "id": "1eeb84b5",
   "metadata": {},
   "outputs": [],
   "source": [
    "# plt.figure(figsize = (20, 10))\n",
    "# plt.subplot(121)\n",
    "# plot_digits(X_train[::2100])\n",
    "# plt.subplot(122)\n",
    "# plot(digits(X_racovered[::2100]))"
   ]
  },
  {
   "cell_type": "code",
   "execution_count": 15,
   "id": "9651cd66",
   "metadata": {},
   "outputs": [],
   "source": [
    "# n_batches = 100\n",
    "# nCount = 0\n",
    "# incPCA = IncrementalPCA(n_components = 154)\n",
    "# for X_batch in np.array_split(X_train, n_batches):\n",
    "#     nCount += 1\n",
    "#     incPCA.partial_fit(X_batch)\n",
    "    \n",
    "# X_reduced = incPCA.transform(X_train)\n",
    "# X_recovered = pca.kinverse_transform(X_reduced)"
   ]
  },
  {
   "cell_type": "code",
   "execution_count": null,
   "id": "b5f31a6d",
   "metadata": {},
   "outputs": [],
   "source": []
  }
 ],
 "metadata": {
  "kernelspec": {
   "display_name": "Python 3",
   "language": "python",
   "name": "python3"
  },
  "language_info": {
   "codemirror_mode": {
    "name": "ipython",
    "version": 3
   },
   "file_extension": ".py",
   "mimetype": "text/x-python",
   "name": "python",
   "nbconvert_exporter": "python",
   "pygments_lexer": "ipython3",
   "version": "3.8.8"
  }
 },
 "nbformat": 4,
 "nbformat_minor": 5
}
