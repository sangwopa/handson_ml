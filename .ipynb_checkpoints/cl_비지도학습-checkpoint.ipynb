{
 "cells": [
  {
   "cell_type": "markdown",
   "id": "a8056582",
   "metadata": {},
   "source": [
    "군집\n",
    "-"
   ]
  },
  {
   "cell_type": "markdown",
   "id": "81030130",
   "metadata": {},
   "source": [
    "비슷한 샘플을 클러스터로 모음"
   ]
  },
  {
   "cell_type": "markdown",
   "id": "4ebfcef1",
   "metadata": {},
   "source": [
    "이상치 탐지\n",
    "-"
   ]
  },
  {
   "cell_type": "markdown",
   "id": "d167ccfa",
   "metadata": {},
   "source": [
    "'정상'데이터가 어떻게 보이는지를 학습한다음 비정상 샘플을 감지하는데 사용"
   ]
  },
  {
   "cell_type": "markdown",
   "id": "494f111e",
   "metadata": {},
   "source": [
    "밀도 추정\n",
    "-"
   ]
  },
  {
   "cell_type": "markdown",
   "id": "746ad491",
   "metadata": {},
   "source": [
    "데이터셋 생성 확률 과정의 확률 밀도 함수(PDF, Probability Density Function)을 추정"
   ]
  },
  {
   "cell_type": "markdown",
   "id": "426f2b69",
   "metadata": {},
   "source": [
    "군집\n",
    "-"
   ]
  },
  {
   "cell_type": "code",
   "execution_count": 4,
   "id": "444cdf39",
   "metadata": {},
   "outputs": [],
   "source": [
    "from matplotlib.image import imread\n",
    "from sklearn.cluster import KMeans"
   ]
  },
  {
   "cell_type": "code",
   "execution_count": 6,
   "id": "90b1e3c8",
   "metadata": {},
   "outputs": [
    {
     "ename": "NameError",
     "evalue": "name 'X' is not defined",
     "output_type": "error",
     "traceback": [
      "\u001b[1;31m---------------------------------------------------------------------------\u001b[0m",
      "\u001b[1;31mNameError\u001b[0m                                 Traceback (most recent call last)",
      "\u001b[1;32m<ipython-input-6-e4b560741e1c>\u001b[0m in \u001b[0;36m<module>\u001b[1;34m\u001b[0m\n\u001b[0;32m      1\u001b[0m \u001b[0mk\u001b[0m \u001b[1;33m=\u001b[0m \u001b[1;36m5\u001b[0m\u001b[1;33m\u001b[0m\u001b[1;33m\u001b[0m\u001b[0m\n\u001b[0;32m      2\u001b[0m \u001b[0mkmeans\u001b[0m \u001b[1;33m=\u001b[0m \u001b[0mKMeans\u001b[0m\u001b[1;33m(\u001b[0m\u001b[0mn_clusters\u001b[0m \u001b[1;33m=\u001b[0m \u001b[0mk\u001b[0m\u001b[1;33m)\u001b[0m\u001b[1;33m\u001b[0m\u001b[1;33m\u001b[0m\u001b[0m\n\u001b[1;32m----> 3\u001b[1;33m \u001b[0my_pred\u001b[0m \u001b[1;33m=\u001b[0m \u001b[0mkmeans\u001b[0m\u001b[1;33m.\u001b[0m\u001b[0mfit_predict\u001b[0m\u001b[1;33m(\u001b[0m\u001b[0mX\u001b[0m\u001b[1;33m)\u001b[0m\u001b[1;33m\u001b[0m\u001b[1;33m\u001b[0m\u001b[0m\n\u001b[0m",
      "\u001b[1;31mNameError\u001b[0m: name 'X' is not defined"
     ]
    }
   ],
   "source": [
    "k = 5\n",
    "kmeans = KMeans(n_clusters = k)\n",
    "y_pred = kmeans.fit_predict(X)"
   ]
  },
  {
   "cell_type": "code",
   "execution_count": null,
   "id": "ef60f2db",
   "metadata": {},
   "outputs": [],
   "source": []
  }
 ],
 "metadata": {
  "kernelspec": {
   "display_name": "Python 3",
   "language": "python",
   "name": "python3"
  },
  "language_info": {
   "codemirror_mode": {
    "name": "ipython",
    "version": 3
   },
   "file_extension": ".py",
   "mimetype": "text/x-python",
   "name": "python",
   "nbconvert_exporter": "python",
   "pygments_lexer": "ipython3",
   "version": "3.8.8"
  }
 },
 "nbformat": 4,
 "nbformat_minor": 5
}
